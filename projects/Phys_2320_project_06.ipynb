{
  "nbformat": 4,
  "nbformat_minor": 0,
  "metadata": {
    "colab": {
      "provenance": [],
      "authorship_tag": "ABX9TyMFq6ubBXU+vryR7hg9IjA7",
      "include_colab_link": true
    },
    "kernelspec": {
      "name": "python3",
      "display_name": "Python 3"
    },
    "language_info": {
      "name": "python"
    }
  },
  "cells": [
    {
      "cell_type": "markdown",
      "metadata": {
        "id": "view-in-github",
        "colab_type": "text"
      },
      "source": [
        "<a href=\"https://colab.research.google.com/github/jamunozlab/introductory_mechanics_fall_2023/blob/main/projects/Phys_2320_project_06.ipynb\" target=\"_parent\"><img src=\"https://colab.research.google.com/assets/colab-badge.svg\" alt=\"Open In Colab\"/></a>"
      ]
    },
    {
      "cell_type": "markdown",
      "source": [
        "# Project 6"
      ],
      "metadata": {
        "id": "KYGHCQElK1R5"
      }
    },
    {
      "cell_type": "markdown",
      "source": [
        "## Backstory\n",
        "\n",
        "Monte Carlo methods are computational algorithms that compute quantities by repeating the same 'measurement' many times, but at different 'places,' then  aggregating all the measurements. The places where the measurements occur are determined randomly based on a probability distribution. These methods are perfect for numerical integration, particularly when the integral is a difficult one. You can read more about them [here](https://en.wikipedia.org/wiki/Monte_Carlo_method)."
      ],
      "metadata": {
        "id": "NgjTU3F3TjF-"
      }
    },
    {
      "cell_type": "markdown",
      "source": [
        "A classic application of Monte Carlo is to determine the value of $\\pi$. The surface area of a circle is $A_{\\rm c} = \\pi r^2$, where $r$ is the radius of the circle. The area of a square of side length $\\ell = 2r$ is $A_{\\rm s} = \\ell^2 = 4r^2$. The ratio of the circle and square surface areas is then:\n",
        "\n",
        ".\n",
        "\n",
        "$\\frac{A_{\\rm c}}{A_{\\rm s}} = \\frac{\\pi r^2}{4r^2} = \\frac{\\pi}{4}$.\n",
        "\n",
        ".\n",
        "\n",
        "Hence, $4 \\times \\frac{A_{\\rm c}}{A_{\\rm s}} = \\pi$.\n",
        "\n",
        ".\n",
        "\n",
        "To compute $\\pi$, we just need the ratio of the surface area of a circle of radius $r$ to that of the surface area of a square of side $2r$. We can do that using Monte Carlo!"
      ],
      "metadata": {
        "id": "JPUNBb-1XNTe"
      }
    },
    {
      "cell_type": "code",
      "source": [
        "# Make our lives easy\n",
        "import numpy as np\n",
        "import pandas as pd"
      ],
      "metadata": {
        "id": "daYrbDeSa-Aw"
      },
      "execution_count": null,
      "outputs": []
    },
    {
      "cell_type": "code",
      "source": [
        "# Numpy comes with pre-programmed distributions, such as uniform, Gaussian, etc.\n",
        "# Use the uniform distribution to produce *size* numbers between -r and r\n",
        "sample_size = 1000\n",
        "r = 1.0\n",
        "x_random = np.random.uniform(low=-r, high=r, size=sample_size)\n",
        "y_random = np.random.uniform(low=-r, high=r, size=sample_size)"
      ],
      "metadata": {
        "id": "wnabmmvGbElJ"
      },
      "execution_count": null,
      "outputs": []
    },
    {
      "cell_type": "code",
      "source": [
        "# Put this random numbers in a pandas DataFrame for easy manipulation\n",
        "df_square_dict = {}\n",
        "df_square_dict['x'] = x_random\n",
        "df_square_dict['y'] = y_random\n",
        "df_square = pd.DataFrame(df_square_dict)"
      ],
      "metadata": {
        "id": "Ub8fGIDkbq_A"
      },
      "execution_count": null,
      "outputs": []
    },
    {
      "cell_type": "code",
      "source": [
        "# These are the 'places' where you will perform your 'measurements'\n",
        "df_square.plot(kind='scatter', x='x', y='y', figsize=(6,6), xlim=(-1,1), ylim=(-1,1))"
      ],
      "metadata": {
        "id": "sgC8ZNFHb-eb"
      },
      "execution_count": null,
      "outputs": []
    },
    {
      "cell_type": "code",
      "source": [
        "# Using Pythagoras,\n",
        "# determine which measurements lie within the circle of radius r\n",
        "# and put them in a list\n",
        "in_circle_list = []\n",
        "for i in range(len(df_square)):\n",
        "  a = df_square['x'].iloc[i]\n",
        "  b = df_square['y'].iloc[i]\n",
        "  c = np.sqrt(a**2 + b**2)\n",
        "  if c <= r:\n",
        "    in_circle_list.append(1) # 1 if inside the circle\n",
        "  else:\n",
        "    in_circle_list.append(0) # 0 if outside"
      ],
      "metadata": {
        "id": "-xq04t3PcW6e"
      },
      "execution_count": null,
      "outputs": []
    },
    {
      "cell_type": "code",
      "source": [
        "# Add the list as another column\n",
        "df_square['in_circle'] = pd.Series(in_circle_list)"
      ],
      "metadata": {
        "id": "zC752Us8dVA3"
      },
      "execution_count": null,
      "outputs": []
    },
    {
      "cell_type": "code",
      "source": [
        "# Use this column to create a new DataFrame that contains circle points only\n",
        "df_circle = df_square[df_square['in_circle'] == r]"
      ],
      "metadata": {
        "id": "DVB8YvTJexYz"
      },
      "execution_count": null,
      "outputs": []
    },
    {
      "cell_type": "code",
      "source": [
        "# These are the places that you measred to be inside the circle\n",
        "df_circle.plot(kind='scatter', x='x', y='y', figsize=(6,6), xlim=(-r,r), ylim=(-r,r))"
      ],
      "metadata": {
        "id": "g6K1uhUzdo_Y"
      },
      "execution_count": null,
      "outputs": []
    },
    {
      "cell_type": "code",
      "source": [
        "number_points_in_square = len(df_square)\n",
        "number_points_in_circle = len(df_circle)\n",
        "ratio = number_points_in_circle / number_points_in_square\n",
        "print('pi is approximately ', 4*ratio)"
      ],
      "metadata": {
        "id": "NPXmEwMVfNFO"
      },
      "execution_count": null,
      "outputs": []
    },
    {
      "cell_type": "markdown",
      "source": [
        "# Problem 6.1\n",
        "\n",
        "6.1.1. Increase the number of measurements by increasing the value of the variable sample_size from 100 to 1000, 10000, 100000, and 1000000. Enter below the estimate of pi for each value\n"
      ],
      "metadata": {
        "id": "lJZx-okVityP"
      }
    },
    {
      "cell_type": "code",
      "source": [
        "## 6.1.1. Estimate the value of pi for sample_size 100, 1000, 10000, 100000, 1000000.\n",
        "##\n",
        "## Answer 100:\n",
        "## Answer 1000:\n",
        "## Answer 10000:\n",
        "## Answer 100000:\n",
        "## Answer 1000000:"
      ],
      "metadata": {
        "id": "yU4rWKVHg99u"
      },
      "execution_count": null,
      "outputs": []
    },
    {
      "cell_type": "markdown",
      "source": [
        "## Definitions\n",
        "\n",
        "The center of mass along the x- and y-directions are given by the following equations:\n",
        "\n",
        ".\n",
        "\n",
        "$x_{\\rm CM} = \\frac{\\sum_i^n m_i x_i}{\\sum_i^n m_i}$,\n",
        "\n",
        ".\n",
        "\n",
        "$y_{\\rm CM} = \\frac{\\sum_i^n m_i y_i}{\\sum_i^n m_i}$,\n",
        "\n",
        ".\n",
        "\n",
        "We can use Monte Carlo to estimate them! Let's start with the circle along the x-direction.\n",
        "\n",
        "\n"
      ],
      "metadata": {
        "id": "IrP9tZAvh5zM"
      }
    },
    {
      "cell_type": "code",
      "source": [
        "m = 1/sample_size # Assume mass is constant\n",
        "nominator = 0 # We will update these with our measurements\n",
        "denominator = 0\n",
        "direction = 'x'\n",
        "# direction = 'y'\n",
        "df = df_circle\n",
        "#df = df_square\n",
        "\n",
        "# this 'for' loop will iterate over all the samples, summing each time\n",
        "# but only for the x-direction\n",
        "for row in range(len(df.index)):\n",
        "  nominator = nominator +  m * df[direction].iloc[row]\n",
        "\n",
        "print('nominator:', nominator)\n",
        "\n",
        "# this 'for' loop will iterate over all the samples, summing each time\n",
        "# but only for the x-direction\n",
        "for row in range(len(df.index)):\n",
        "  denominator = denominator +  m\n",
        "\n",
        "print('denominator:', denominator)"
      ],
      "metadata": {
        "id": "nt0CIMS3iklj"
      },
      "execution_count": null,
      "outputs": []
    },
    {
      "cell_type": "code",
      "source": [
        "center_mass = nominator/denominator\n",
        "print('Center of mass along ', direction, 'direction is at: ', center_mass)"
      ],
      "metadata": {
        "id": "xaO-DzdoyCPf"
      },
      "execution_count": null,
      "outputs": []
    },
    {
      "cell_type": "markdown",
      "source": [
        "## Problem 6.2\n",
        "\n",
        "6.2.1. Increase the number of measurements by increasing the value of the variable sample_size from 100 to 1000, 10000. Enter below the estimate of the center of mass of a circle along the $x$- and $y$-directions for each value of sample size.\n",
        "\n",
        "6.2.2. Increase the number of measurements by increasing the value of the variable sample_size from 100 to 1000, 10000. Enter below the estimate of the center of mass of a square along the $x$- and $y$-directions for each value of sample size.\n"
      ],
      "metadata": {
        "id": "OGaoxeo4z6-_"
      }
    },
    {
      "cell_type": "code",
      "source": [
        "## 6.2.1. Estimate the center of mass of a circle (x and y) for sample_size 100, 1000, 10000.\n",
        "##\n",
        "## Answer 100: x, y\n",
        "## Answer 1000:\n",
        "## Answer 10000:"
      ],
      "metadata": {
        "id": "qo__kG4S0uZi"
      },
      "execution_count": null,
      "outputs": []
    },
    {
      "cell_type": "code",
      "source": [
        "## 6.2.2. Estimate the center of mass of a square (x and y) for sample_size 100, 1000, 10000.\n",
        "##\n",
        "## Answer 100: x, y\n",
        "## Answer 1000:\n",
        "## Answer 10000:"
      ],
      "metadata": {
        "id": "QaZ5_d361Cyw"
      },
      "execution_count": null,
      "outputs": []
    },
    {
      "cell_type": "markdown",
      "source": [
        "The moment of inertia about the axis of rotation is given by the following equation:\n",
        "\n",
        ".\n",
        "\n",
        "$I = \\sum_i m_i d_i^2 \\;$ ,\n",
        "\n",
        ".\n",
        "\n",
        "where $d_i$ is the 'parallel' distance of particle $i$ to the axis of rotation. We can use Monte Carlo to estimate the moment of inertia! Let's start with an axis of rotation that runs through the origin.\n",
        "\n",
        "\n"
      ],
      "metadata": {
        "id": "6z_IQopJ1o9r"
      }
    },
    {
      "cell_type": "code",
      "source": [
        "m = 1/sample_size # Assume mass is constant\n",
        "moment_of_inertia = 0 # We will update these with our measurements\n",
        "total_mass = 0\n",
        "#df = df_circle\n",
        "df = df_square\n",
        "\n",
        "# this 'for' loop will iterate over all the samples, summing each time\n",
        "for row in range(len(df.index)):\n",
        "  a = df['x'].iloc[row]\n",
        "  b = df['y'].iloc[row]\n",
        "  d = np.sqrt(a**2 + b**2)\n",
        "  moment_of_inertia = moment_of_inertia + m * d**2\n",
        "\n",
        "# this 'for' loop will iterate over all the samples, summing each time\n",
        "for row in range(len(df.index)):\n",
        "  total_mass = total_mass +  m\n"
      ],
      "metadata": {
        "id": "ciPj8m4x1oeT"
      },
      "execution_count": null,
      "outputs": []
    },
    {
      "cell_type": "code",
      "source": [
        "print('Moment of inertia about the origin: ', moment_of_inertia, 'kg m^2')\n",
        "print('Total mass: ', total_mass, 'kg')"
      ],
      "metadata": {
        "id": "Fz9RXbVw4MMd"
      },
      "execution_count": null,
      "outputs": []
    },
    {
      "cell_type": "markdown",
      "source": [
        "## Problem 6.3\n",
        "\n",
        "6.3.1. Increase the number of measurements by increasing the value of the variable sample_size from 100 to 1000, then 10000. Enter below the estimate of the moment of inertia of a circle (or disk) for each value of sample size.\n",
        "\n",
        "6.3.2. Increase the number of measurements by increasing the value of the variable sample_size from 100 to 1000, then 10000. Enter below the estimate of the moment of inertia of a square for each value of sample size.\n",
        "\n",
        "6.3.3. The analytical moment of inertia of a disk of constant mass density and radius $r$ is $I_{\\rm c} = \\frac{1}{2}Mr^2$, where $M$ is the total mass. How does it compare with your best Monte Carlo estimate?\n",
        "\n",
        "6.3.4. The analytical moment of inertia of a square of constant mass density and side $\\ell=2r$ is $I_{\\rm s} = \\frac{1}{6}M\\ell^2 =  \\frac{2}{3}Mr^2$, where $M$ is the total mass. How does it compare with your best Monte Carlo estimate?"
      ],
      "metadata": {
        "id": "7t4RTi7o5ZD9"
      }
    },
    {
      "cell_type": "code",
      "source": [
        "## 6.3.1. Estimate the moment of inertia of a disk about its center of mass for sample_size 100, 1000, 10000.\n",
        "##\n",
        "## Answer 100:\n",
        "## Answer 1000:\n",
        "## Answer 10000:"
      ],
      "metadata": {
        "id": "QMp8ek3d4gLc"
      },
      "execution_count": null,
      "outputs": []
    },
    {
      "cell_type": "code",
      "source": [
        "## 6.3.2. Estimate the moment of inertia of a square about its center of mass for sample_size 100, 1000, 10000.\n",
        "##\n",
        "## Answer 100:\n",
        "## Answer 1000:\n",
        "## Answer 10000:"
      ],
      "metadata": {
        "id": "hjWLL5Mz-qj2"
      },
      "execution_count": null,
      "outputs": []
    },
    {
      "cell_type": "code",
      "source": [
        "## 6.3.3. Compute the analytical moment of inertia of a disk for the mass and dimensions as the numerical situation.\n",
        "## What is the percentage difference between your best estimate and the analytical solution?\n",
        "##\n",
        "## Answer:"
      ],
      "metadata": {
        "id": "h5BcQAXJ-zDH"
      },
      "execution_count": null,
      "outputs": []
    },
    {
      "cell_type": "code",
      "source": [
        "## 6.3.4. Compute the analytical moment of inertia of a square for the mass and dimensions as the numerical situation.\n",
        "## What is the percentage difference between your best estimate and the analytical solution?\n",
        "##\n",
        "## Answer:"
      ],
      "metadata": {
        "id": "fwtnSQh7-460"
      },
      "execution_count": null,
      "outputs": []
    }
  ]
}