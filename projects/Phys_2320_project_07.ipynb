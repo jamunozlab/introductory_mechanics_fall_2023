{
  "nbformat": 4,
  "nbformat_minor": 0,
  "metadata": {
    "colab": {
      "provenance": [],
      "authorship_tag": "ABX9TyMW9sR1o5V87cdzwjxhtY/j",
      "include_colab_link": true
    },
    "kernelspec": {
      "name": "python3",
      "display_name": "Python 3"
    },
    "language_info": {
      "name": "python"
    }
  },
  "cells": [
    {
      "cell_type": "markdown",
      "metadata": {
        "id": "view-in-github",
        "colab_type": "text"
      },
      "source": [
        "<a href=\"https://colab.research.google.com/github/jamunozlab/introductory_mechanics_fall_2023/blob/main/projects/Phys_2320_project_07.ipynb\" target=\"_parent\"><img src=\"https://colab.research.google.com/assets/colab-badge.svg\" alt=\"Open In Colab\"/></a>"
      ]
    },
    {
      "cell_type": "markdown",
      "source": [
        "# Project 7\n",
        "\n",
        "When I showed in lecture the meme about physicists thinking that everything is simple harmonic motion, I was not really exagerating. This is because any function, but particularly oscillatory functions, can be described as being the weighted sum of sine waves of different frequencies. The [Fourier transform](https://en.wikipedia.org/wiki/Fourier_transform) can take in an oscillatory wave and return the weights of the sine waves whose addition reassemble the original wave.\n",
        "\n",
        ".\n",
        "\n",
        "In this last project, you will decompose the position as a function of time and the velocity as a function of time generated using our now famous molecular dynamics code, for two different potentials."
      ],
      "metadata": {
        "id": "1RDK5pOvNWtt"
      }
    },
    {
      "cell_type": "code",
      "execution_count": null,
      "metadata": {
        "id": "psVdoEnTNVq3"
      },
      "outputs": [],
      "source": [
        "# Make our lives easier\n",
        "import pandas as pd\n",
        "import matplotlib.pyplot as plt\n",
        "from scipy.fft import fft, fftfreq\n",
        "import numpy as np"
      ]
    },
    {
      "cell_type": "code",
      "source": [
        "# Initialization\n",
        "position = 0.0 # position in meters\n",
        "velocity = 1.0 # velocity in meters per second\n",
        "acceleration = 0.0 # acceleration in meters per second^2\n",
        "force = 0.0 # force in Newtons\n",
        "time = 0.0 # time in seconds\n",
        "spring_constant = 1.0 # force constant in kg/second^2\n",
        "mass = 1.0 # mass in kg\n",
        "time_step = 0.001 # time step in seconds\n",
        "g = 9.8 # acceleration due to gravity m/s^2\n",
        "mu = 0.000 # coefficient of kinetic friction"
      ],
      "metadata": {
        "id": "_a77prUwjfTi"
      },
      "execution_count": null,
      "outputs": []
    },
    {
      "cell_type": "code",
      "source": [
        "# A quadratic model for potential, this is just Hooke's law\n",
        "# THIS IS THE CODE CELL THAT WILL BE REPLACED TO COMPLETE EXERCISE 7.2\n",
        "\n",
        "potential_series = pd.Series([(1/2)*spring_constant*(x/100)**2 for x in range(-125,125)], index=[x/100 for x in range(-125,125)]) # ΔX ranges from -1.25 m to + 1.25 m // Arbitrary approximation\n",
        "potential_series.plot(xlabel=\"position (m)\", ylabel=\"Spring potential energy (J)\")  # U = (1/2)k(Δx)2"
      ],
      "metadata": {
        "id": "woac1SGIOAxo"
      },
      "execution_count": null,
      "outputs": []
    },
    {
      "cell_type": "code",
      "source": [
        "# Take the derivative of a pandas series at a given position using central difference\n",
        "# We need this function to obtain forces from the potential\n",
        "\n",
        "def take_derivative_at(potential_series, position):\n",
        "  diff = np.inf  #Infinity\n",
        "  closest = 0\n",
        "  for index, pos in enumerate(potential_series.index): #position at each index is enumerated\n",
        "    if abs(position - pos) < diff: # this IF will always execute the first iteration\n",
        "      diff = abs(position - pos)\n",
        "      closest = index # Closest = 0\n",
        "  rise = potential_series.iloc[closest+1] - potential_series.iloc[closest-1]  #  ΔU = - Uf - Ui\n",
        "  run = potential_series.index[closest+1] - potential_series.index[closest-1] # Δx = xf - xi\n",
        "  slope = rise/run # ΔU / Δx\n",
        "\n",
        "  return slope"
      ],
      "metadata": {
        "id": "ZWsie1jOOJ18"
      },
      "execution_count": null,
      "outputs": []
    },
    {
      "cell_type": "code",
      "source": [
        "# Now that we've calculated Spring Force by approximating the derrivative of potential with respect to position (dU/dx)\n",
        "# We can use Kinematics and Newtons second law to approximate the values of our remaining variables.\n",
        "\n",
        "# Creating variable arrays\n",
        "time_list = [time]\n",
        "position_list = [position]\n",
        "velocity_list = [velocity]\n",
        "acceleration_list = [acceleration]\n",
        "force_list = [force]\n",
        "\n",
        "# Starting Loop\n",
        "i=1\n",
        "while i < 200000:\n",
        "    time = time + time_step\n",
        "    position = position + velocity*time_step + (1/2)*(acceleration*time_step**2) #Xf = xi + v(Δt)\n",
        "    velocity = velocity + acceleration*time_step #Vf = Vi + a(Δt)\n",
        "    spring_force = -1*take_derivative_at(potential_series=potential_series, position=position)  #Fs = -kΔx\n",
        "\n",
        "    if velocity < 0: # moving to the left\n",
        "      friction_force = mu*mass*g #friction to the right\n",
        "    else: # moving to the right\n",
        "      friction_force = -mu*mass*g # friction to the left\n",
        "                                                             # We set the coefficient of friction to Zero, so friction will not affect\n",
        "    if abs(velocity) < 0.001: # if moving extremely slowly\n",
        "      friction_force = 0 # no friction because almost not moving\n",
        "\n",
        "    force = spring_force + friction_force # Fnet = Fs + Fk\n",
        "    acceleration = force/mass\n",
        "\n",
        "# After all calculations have been computed they are then stored into our variable arrays\n",
        "\n",
        "    time_list.append(time)\n",
        "    position_list.append(position)\n",
        "    velocity_list.append(velocity)\n",
        "    acceleration_list.append(acceleration)\n",
        "    force_list.append(force)\n",
        "    i = i + 1"
      ],
      "metadata": {
        "id": "5jAL0zO3OYhZ"
      },
      "execution_count": null,
      "outputs": []
    },
    {
      "cell_type": "code",
      "source": [
        "# The position oscillation is here\n",
        "# You can adjust the time window by changing the values in xlim\n",
        "position_series = pd.Series(position_list, index=time_list)\n",
        "position_series.plot(ylabel=\"position (m)\", xlabel=\"time (s)\", xlim=(0, 20))"
      ],
      "metadata": {
        "id": "fD_pHd31OfKP"
      },
      "execution_count": null,
      "outputs": []
    },
    {
      "cell_type": "code",
      "source": [
        "# The velocity oscillation is here\n",
        "# You can adjust the time window by changing the values in xlim\n",
        "velocity_series = pd.Series(position_list, index=time_list)\n",
        "velocity_series.plot(ylabel=\"velocity (m/s)\", xlabel=\"time (s)\", xlim=(0, 20))"
      ],
      "metadata": {
        "id": "rDabwTeYOfGf"
      },
      "execution_count": null,
      "outputs": []
    },
    {
      "cell_type": "code",
      "source": [
        "# Fourier transform and frequency analysis of the position wave\n",
        "# The numpy function fft is the Fourier transform,\n",
        "# it finds the weights of the frequencies of the sine waves that make up the original function\n",
        "# fftfreq computes those frequencies based on the amount of data N and sampling rate T\n",
        "# The sampling rate is, of course, the time step of the simulation\n",
        "data = np.array(position_series.values)\n",
        "n = len(data)\n",
        "d = time_step\n",
        "yf = fft(data)\n",
        "freq = fftfreq(n, d)\n",
        "\n",
        "# Plotting\n",
        "plt.plot(freq, np.abs(yf))\n",
        "plt.title('Position frequency spectrum')\n",
        "plt.ylabel('Intensity')\n",
        "plt.xlabel('Frequency (Hz)')\n",
        "plt.xlim([0, 1])\n",
        "plt.show()"
      ],
      "metadata": {
        "id": "R1X8tGlDPcoa"
      },
      "execution_count": null,
      "outputs": []
    },
    {
      "cell_type": "code",
      "source": [
        "# Fourier transform and frequency analysis of the velocity wave\n",
        "# Everything else is the same as before\n",
        "data = np.array(position_series.values)\n",
        "n = len(data)\n",
        "d = time_step\n",
        "yf = fft(data)\n",
        "freq = fftfreq(n, d)\n",
        "\n",
        "# Plotting\n",
        "plt.plot(freq, np.abs(yf))\n",
        "plt.title('Velocity frequency spectrum')\n",
        "plt.ylabel('Intensity')\n",
        "plt.xlabel('Frequency (Hz)')\n",
        "plt.xlim([0, 1])\n",
        "plt.show()"
      ],
      "metadata": {
        "id": "vaKVSfkJPck-"
      },
      "execution_count": null,
      "outputs": []
    },
    {
      "cell_type": "markdown",
      "source": [
        "## Problem 7.1\n",
        "\n",
        "7.1.1. Using a ruler, or by adjusting the arguments in xlim in the cells above, determine the period $T_x$ of the position oscillation and compute its frequency $f_x$ (remember that $f=1/T$).\n",
        "\n",
        "7.1.2 Using a ruler, or by adjusting the arguments in xlim in the cells above, determine the period $T_v$ of the velocity oscillation and compute its frequency $f_v$ (remember that $f=1/T$).\n",
        "\n",
        "7.1.3 By visual inspection of the position frequency spectrum, determine the most common frequency of the position oscillation and compare it to the result you got in 7.1.1. Are they about equal? Explain why that might be.\n",
        "\n",
        "7.1.4 By visual inspection of the velocity frequency spectrum, determine the most common frequency of the velocity oscillation and compare it to the result you got in 7.1.2. Are they about equal? Explain why that might be.\n",
        "\n",
        "7.1.5 The position and the velocity oscillations are both sinusoidal waves, since we are simulating a simple harmonic oscillator. Nevertheless, they are shifted by $\\pi$ radians. Why do they have the same Fourier spectrum?"
      ],
      "metadata": {
        "id": "hLuHAaTtR2lb"
      }
    },
    {
      "cell_type": "code",
      "source": [
        "## 7.1.1. What are the period and frequency of the position oscillation?\n",
        "##\n",
        "## Period answer:\n",
        "## Frequency answer:"
      ],
      "metadata": {
        "id": "ZKEip1-vOYWe"
      },
      "execution_count": null,
      "outputs": []
    },
    {
      "cell_type": "code",
      "source": [
        "## 7.1.2. What are the period and frequency of the velocity oscillation?\n",
        "##\n",
        "## Period answer:\n",
        "## Frequency answer:"
      ],
      "metadata": {
        "id": "929yhzlpVAgm"
      },
      "execution_count": null,
      "outputs": []
    },
    {
      "cell_type": "code",
      "source": [
        "## 7.1.3. What is the most common frequency of the position oscillation as determined by the Fourier transform\n",
        "## and how does this number compare with your answer in 7.1.1? Explain.\n",
        "##\n",
        "## Frequency answer:\n",
        "## Comparison answer:\n",
        "## Explanation answer:"
      ],
      "metadata": {
        "id": "0map6gwYVAdE"
      },
      "execution_count": null,
      "outputs": []
    },
    {
      "cell_type": "code",
      "source": [
        "## 7.1.4. What is the most common frequency of the velocity oscillation as determined by the Fourier transform\n",
        "## and how does this number compare with your answer in 7.1.2? Explain.\n",
        "##\n",
        "## Frequency answer:\n",
        "## Comparison answer:\n",
        "## Explanation answer:"
      ],
      "metadata": {
        "id": "3diVAQ1GVAQ6"
      },
      "execution_count": null,
      "outputs": []
    },
    {
      "cell_type": "code",
      "source": [
        "## 7.1.5 Why are the frequency spectra of the position and velocity oscillations the same?\n",
        "##\n",
        "## Answer:"
      ],
      "metadata": {
        "id": "PAEyActSVAN3"
      },
      "execution_count": null,
      "outputs": []
    },
    {
      "cell_type": "markdown",
      "source": [
        "## Problem 7.2\n",
        "\n",
        "Copy the code cell below that produces a quartic plus quadratic potential (rather than just quadratic) and replace the potential in the third cell from the top that you used for the previous problem. Restart your session and run all cells again. New position and velocity oscillations, as well as frequency spectra will be generated. The following questions refer to the quartic oscillations.\n",
        "\n",
        "7.2.1 Using a ruler, or by adjusting the arguments in xlim in the cells above, determine the period $T_x$ of the position oscillation and compute its frequency $f_x$ (remember that $f=1/T$).\n",
        "\n",
        "7.2.2 By visual inspection of the position frequency spectrum, determine the most common frequency of the position oscillation and compare it to the result you got in 7.1.2. Are they about equal? Explain why that might be.\n",
        "\n",
        "7.2.3 Contrary to the frequency spectrum of the pure quadratic potential, the frequency spectrum of the quartic plus quadratic potential shows a second, smaller bump at higher frequency. What do you think those frequencies represent?  "
      ],
      "metadata": {
        "id": "bOtYnC0yV2OG"
      }
    },
    {
      "cell_type": "code",
      "source": [
        "potential_series = pd.Series([(1/2)*spring_constant*(x/100)**4 - (1/2)*spring_constant*(x/100)**2 for x in range(-150,150)], index=[x/100 for x in range(-150,150)])\n",
        "potential_series.plot(xlabel=\"position (m)\", ylabel=\"Spring potential energy (J)\")"
      ],
      "metadata": {
        "id": "00-TWBmrV-ml"
      },
      "execution_count": null,
      "outputs": []
    },
    {
      "cell_type": "code",
      "source": [
        "## 7.2.1. What are the period and frequency of the position oscillation?\n",
        "##\n",
        "## Period answer:\n",
        "## Frequency answer:"
      ],
      "metadata": {
        "id": "4m8nVwbjTp2F"
      },
      "execution_count": null,
      "outputs": []
    },
    {
      "cell_type": "code",
      "source": [
        "## 7.2.2. What is the most common frequency of the position oscillation as determined by the Fourier transform\n",
        "## and how does this number compare with your answer in 7.2.1? Explain.\n",
        "##\n",
        "## Period answer:\n",
        "## Frequency answer:"
      ],
      "metadata": {
        "id": "w7E4I9k2TptB"
      },
      "execution_count": null,
      "outputs": []
    },
    {
      "cell_type": "code",
      "source": [
        "## 7.2.3. Why is there a smaller bump at higher frequency in the frequency spectrum?\n",
        "##\n",
        "## Period answer:\n",
        "## Frequency answer:"
      ],
      "metadata": {
        "id": "RKXSbOQyTpbM"
      },
      "execution_count": null,
      "outputs": []
    },
    {
      "cell_type": "markdown",
      "source": [
        "## Problem 7.3\n",
        "\n",
        "One of the most interest features of the universe is that, to a large degree, it can be described as an agregation of models that do not interact.\n",
        "\n",
        "7.3.1.Evaluate the cell below and explain how this relates to the 'modified' simple harmonic motion produced by the quartic plus quadratic potential?"
      ],
      "metadata": {
        "id": "k2MBidb1cebx"
      }
    },
    {
      "cell_type": "code",
      "source": [
        "Fs = 8000\n",
        "sample = 80000\n",
        "\n",
        "# This generates the low frequency harmonic wave\n",
        "f = 0.2\n",
        "x = np.arange(sample)\n",
        "x = np.array(time_list)\n",
        "y1 = np.sin(2 * np.pi * f * x)\n",
        "plt.xlim(0,20)\n",
        "plt.plot(x, y1)\n",
        "\n",
        "# This generates the high frequency harmonic wave\n",
        "f = 0.55\n",
        "y2 = np.sin(2 * np.pi * f * x )\n",
        "plt.plot(x, y2)\n",
        "plt.show()\n",
        "\n",
        "# Adding the 2 waves, multiplying one of them times 10 percent due to\n",
        "# them being less common in the frequency spectrum approximately\n",
        "# reproduces the triangular wave of the quadratic plus quartic potential\n",
        "y3 = 0.1*y2+y1\n",
        "plt.plot(x, y3)\n",
        "plt.xlim(0,20)\n",
        "plt.show()"
      ],
      "metadata": {
        "id": "FfrGOEdnZ3fY"
      },
      "execution_count": null,
      "outputs": []
    },
    {
      "cell_type": "code",
      "source": [
        "## 7.3.1 Why can you decompose an oscillation into a sum of harmonic oscillations?\n",
        "##\n",
        "## Answer:"
      ],
      "metadata": {
        "id": "U0u0__-adWpF"
      },
      "execution_count": null,
      "outputs": []
    }
  ]
}